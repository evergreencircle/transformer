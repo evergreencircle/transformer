{
 "cells": [
  {
   "cell_type": "code",
   "id": "initial_id",
   "metadata": {
    "collapsed": true,
    "ExecuteTime": {
     "end_time": "2024-10-01T16:09:04.736911Z",
     "start_time": "2024-10-01T16:09:04.672564Z"
    }
   },
   "source": [
    "import torch\n",
    "import torch.nn as nn\n",
    "\n",
    "embed_dim = 64\n",
    "num_heads = 8\n",
    "multihead_attn = nn.MultiheadAttention(embed_dim, num_heads)\n"
   ],
   "outputs": [],
   "execution_count": 8
  },
  {
   "metadata": {
    "ExecuteTime": {
     "end_time": "2024-09-27T10:31:48.741060Z",
     "start_time": "2024-09-27T10:31:48.732998Z"
    }
   },
   "cell_type": "code",
   "source": [
    "query = torch.rand(6, 32, embed_dim)  # (sequence_length, batch_size, embed_dim)\n",
    "key = torch.rand(10, 32, embed_dim)\n",
    "value = torch.rand(10, 32, embed_dim)\n",
    "\n",
    "attn_output, attn_output_weights = multihead_attn(query, key, value)"
   ],
   "id": "a2402ee694ce2f2c",
   "outputs": [],
   "execution_count": 3
  },
  {
   "metadata": {
    "ExecuteTime": {
     "end_time": "2024-09-27T10:31:49.375665Z",
     "start_time": "2024-09-27T10:31:49.365828Z"
    }
   },
   "cell_type": "code",
   "source": "attn_output.shape",
   "id": "c46560fc983ab544",
   "outputs": [
    {
     "data": {
      "text/plain": [
       "torch.Size([6, 32, 64])"
      ]
     },
     "execution_count": 4,
     "metadata": {},
     "output_type": "execute_result"
    }
   ],
   "execution_count": 4
  },
  {
   "metadata": {},
   "cell_type": "markdown",
   "source": "",
   "id": "abad5cde025b75ba"
  },
  {
   "metadata": {
    "ExecuteTime": {
     "end_time": "2024-09-27T10:31:49.743270Z",
     "start_time": "2024-09-27T10:31:49.725508Z"
    }
   },
   "cell_type": "code",
   "source": [
    "key_padding_mask = torch.zeros(32, 10, dtype=torch.bool) \n",
    "key_padding_mask[:, 5:] = 1  # Mask out positions after the 5th token\n",
    "\n",
    "attn_output, attn_output_weights = multihead_attn(query, key, value, key_padding_mask=key_padding_mask)\n",
    "attn_output, attn_output_weights\n"
   ],
   "id": "4f8eb097fc0ef773",
   "outputs": [
    {
     "data": {
      "text/plain": [
       "(tensor([[[ 1.5192e-01, -2.9437e-02,  5.4236e-01,  ..., -3.2966e-02,\n",
       "            1.3585e-01, -4.9723e-02],\n",
       "          [ 1.0286e-01, -2.5614e-03,  4.7557e-01,  ...,  2.4605e-02,\n",
       "            1.5624e-01, -5.9461e-02],\n",
       "          [ 1.0709e-01, -1.2067e-01,  4.8760e-01,  ...,  1.0833e-01,\n",
       "            1.0579e-01,  1.6395e-02],\n",
       "          ...,\n",
       "          [ 1.2937e-01, -1.1613e-01,  5.2437e-01,  ..., -1.4627e-02,\n",
       "            1.4489e-01, -7.5824e-02],\n",
       "          [ 2.3998e-03, -9.3569e-02,  5.2716e-01,  ..., -5.3976e-02,\n",
       "            1.7679e-01, -1.5284e-01],\n",
       "          [ 6.2723e-02, -1.3448e-01,  5.4299e-01,  ..., -5.4690e-02,\n",
       "            1.5695e-01, -4.9929e-02]],\n",
       " \n",
       "         [[ 1.5290e-01, -2.9095e-02,  5.4099e-01,  ..., -3.0139e-02,\n",
       "            1.3850e-01, -5.1365e-02],\n",
       "          [ 1.0303e-01, -1.2757e-03,  4.7245e-01,  ...,  2.2874e-02,\n",
       "            1.5828e-01, -5.6766e-02],\n",
       "          [ 1.0563e-01, -1.2055e-01,  4.8639e-01,  ...,  1.1004e-01,\n",
       "            1.0627e-01,  1.6607e-02],\n",
       "          ...,\n",
       "          [ 1.3365e-01, -1.1666e-01,  5.2880e-01,  ..., -1.0776e-02,\n",
       "            1.4725e-01, -7.4850e-02],\n",
       "          [ 1.0420e-03, -9.6656e-02,  5.2992e-01,  ..., -5.3454e-02,\n",
       "            1.7598e-01, -1.5467e-01],\n",
       "          [ 6.3107e-02, -1.3102e-01,  5.4341e-01,  ..., -5.1870e-02,\n",
       "            1.5736e-01, -4.7338e-02]],\n",
       " \n",
       "         [[ 1.5037e-01, -3.1210e-02,  5.4389e-01,  ..., -3.3013e-02,\n",
       "            1.3317e-01, -5.2514e-02],\n",
       "          [ 1.0117e-01, -2.4443e-03,  4.7575e-01,  ...,  2.3938e-02,\n",
       "            1.5668e-01, -5.8681e-02],\n",
       "          [ 1.0366e-01, -1.1936e-01,  4.8557e-01,  ...,  1.0976e-01,\n",
       "            1.0872e-01,  1.3168e-02],\n",
       "          ...,\n",
       "          [ 1.2914e-01, -1.1497e-01,  5.2016e-01,  ..., -8.9474e-03,\n",
       "            1.4418e-01, -7.4032e-02],\n",
       "          [ 4.0899e-03, -9.1840e-02,  5.2604e-01,  ..., -5.0610e-02,\n",
       "            1.7606e-01, -1.5405e-01],\n",
       "          [ 6.6226e-02, -1.3028e-01,  5.4737e-01,  ..., -5.3450e-02,\n",
       "            1.6223e-01, -5.0882e-02]],\n",
       " \n",
       "         [[ 1.5056e-01, -3.2165e-02,  5.4732e-01,  ..., -3.1678e-02,\n",
       "            1.3539e-01, -5.2866e-02],\n",
       "          [ 1.0127e-01,  1.5996e-03,  4.7720e-01,  ...,  2.6484e-02,\n",
       "            1.5824e-01, -6.2833e-02],\n",
       "          [ 1.0412e-01, -1.2085e-01,  4.8663e-01,  ...,  1.0927e-01,\n",
       "            1.0568e-01,  1.6060e-02],\n",
       "          ...,\n",
       "          [ 1.3066e-01, -1.1592e-01,  5.2782e-01,  ..., -1.2819e-02,\n",
       "            1.4621e-01, -7.3206e-02],\n",
       "          [ 2.1809e-03, -9.5170e-02,  5.2825e-01,  ..., -5.2437e-02,\n",
       "            1.7914e-01, -1.5434e-01],\n",
       "          [ 6.3719e-02, -1.3268e-01,  5.4201e-01,  ..., -5.2535e-02,\n",
       "            1.6130e-01, -4.9286e-02]],\n",
       " \n",
       "         [[ 1.5256e-01, -3.1592e-02,  5.4516e-01,  ..., -3.2733e-02,\n",
       "            1.3632e-01, -5.2876e-02],\n",
       "          [ 1.0367e-01,  1.2807e-03,  4.7408e-01,  ...,  2.6587e-02,\n",
       "            1.5787e-01, -5.4664e-02],\n",
       "          [ 1.0276e-01, -1.2078e-01,  4.8492e-01,  ...,  1.0676e-01,\n",
       "            1.0866e-01,  1.9465e-02],\n",
       "          ...,\n",
       "          [ 1.2787e-01, -1.0958e-01,  5.2394e-01,  ..., -9.8377e-03,\n",
       "            1.4347e-01, -7.2726e-02],\n",
       "          [ 3.8527e-03, -9.3451e-02,  5.2752e-01,  ..., -5.3181e-02,\n",
       "            1.7664e-01, -1.5303e-01],\n",
       "          [ 6.4931e-02, -1.2986e-01,  5.4738e-01,  ..., -5.2610e-02,\n",
       "            1.5387e-01, -5.0075e-02]],\n",
       " \n",
       "         [[ 1.5154e-01, -3.5530e-02,  5.4473e-01,  ..., -3.1666e-02,\n",
       "            1.3580e-01, -5.3707e-02],\n",
       "          [ 1.0351e-01,  9.6652e-04,  4.7285e-01,  ...,  2.6180e-02,\n",
       "            1.5845e-01, -5.5555e-02],\n",
       "          [ 1.0595e-01, -1.1673e-01,  4.8653e-01,  ...,  1.0674e-01,\n",
       "            1.0857e-01,  1.6478e-02],\n",
       "          ...,\n",
       "          [ 1.2965e-01, -1.1437e-01,  5.2771e-01,  ..., -8.9821e-03,\n",
       "            1.4456e-01, -7.3125e-02],\n",
       "          [-1.9906e-04, -9.4702e-02,  5.3118e-01,  ..., -5.2797e-02,\n",
       "            1.7721e-01, -1.5298e-01],\n",
       "          [ 6.1348e-02, -1.3321e-01,  5.4324e-01,  ..., -5.2892e-02,\n",
       "            1.5843e-01, -4.8410e-02]]], grad_fn=<ViewBackward0>),\n",
       " tensor([[[0.1859, 0.2052, 0.2210,  ..., 0.0000, 0.0000, 0.0000],\n",
       "          [0.1904, 0.2054, 0.2148,  ..., 0.0000, 0.0000, 0.0000],\n",
       "          [0.1916, 0.2035, 0.2150,  ..., 0.0000, 0.0000, 0.0000],\n",
       "          [0.1911, 0.1983, 0.2114,  ..., 0.0000, 0.0000, 0.0000],\n",
       "          [0.1932, 0.2036, 0.2140,  ..., 0.0000, 0.0000, 0.0000],\n",
       "          [0.1910, 0.2030, 0.2182,  ..., 0.0000, 0.0000, 0.0000]],\n",
       " \n",
       "         [[0.2010, 0.1880, 0.2032,  ..., 0.0000, 0.0000, 0.0000],\n",
       "          [0.2003, 0.1866, 0.2025,  ..., 0.0000, 0.0000, 0.0000],\n",
       "          [0.2030, 0.1843, 0.2042,  ..., 0.0000, 0.0000, 0.0000],\n",
       "          [0.2081, 0.1862, 0.2005,  ..., 0.0000, 0.0000, 0.0000],\n",
       "          [0.2040, 0.1874, 0.2008,  ..., 0.0000, 0.0000, 0.0000],\n",
       "          [0.2029, 0.1842, 0.2073,  ..., 0.0000, 0.0000, 0.0000]],\n",
       " \n",
       "         [[0.2055, 0.2067, 0.1960,  ..., 0.0000, 0.0000, 0.0000],\n",
       "          [0.2011, 0.2034, 0.2011,  ..., 0.0000, 0.0000, 0.0000],\n",
       "          [0.2034, 0.2012, 0.2024,  ..., 0.0000, 0.0000, 0.0000],\n",
       "          [0.2030, 0.2049, 0.1970,  ..., 0.0000, 0.0000, 0.0000],\n",
       "          [0.2044, 0.2032, 0.2027,  ..., 0.0000, 0.0000, 0.0000],\n",
       "          [0.2012, 0.2010, 0.2061,  ..., 0.0000, 0.0000, 0.0000]],\n",
       " \n",
       "         ...,\n",
       " \n",
       "         [[0.1930, 0.2031, 0.2065,  ..., 0.0000, 0.0000, 0.0000],\n",
       "          [0.1985, 0.2087, 0.1966,  ..., 0.0000, 0.0000, 0.0000],\n",
       "          [0.1948, 0.2046, 0.2041,  ..., 0.0000, 0.0000, 0.0000],\n",
       "          [0.1968, 0.2044, 0.1983,  ..., 0.0000, 0.0000, 0.0000],\n",
       "          [0.1965, 0.2033, 0.1998,  ..., 0.0000, 0.0000, 0.0000],\n",
       "          [0.1921, 0.2091, 0.2026,  ..., 0.0000, 0.0000, 0.0000]],\n",
       " \n",
       "         [[0.2060, 0.1896, 0.2023,  ..., 0.0000, 0.0000, 0.0000],\n",
       "          [0.2063, 0.1961, 0.2028,  ..., 0.0000, 0.0000, 0.0000],\n",
       "          [0.2014, 0.1951, 0.1981,  ..., 0.0000, 0.0000, 0.0000],\n",
       "          [0.2011, 0.1972, 0.1997,  ..., 0.0000, 0.0000, 0.0000],\n",
       "          [0.2030, 0.1942, 0.2021,  ..., 0.0000, 0.0000, 0.0000],\n",
       "          [0.2079, 0.1880, 0.2035,  ..., 0.0000, 0.0000, 0.0000]],\n",
       " \n",
       "         [[0.2043, 0.1984, 0.1929,  ..., 0.0000, 0.0000, 0.0000],\n",
       "          [0.2059, 0.1971, 0.1940,  ..., 0.0000, 0.0000, 0.0000],\n",
       "          [0.1948, 0.1959, 0.1998,  ..., 0.0000, 0.0000, 0.0000],\n",
       "          [0.1967, 0.1949, 0.1997,  ..., 0.0000, 0.0000, 0.0000],\n",
       "          [0.2033, 0.1935, 0.1973,  ..., 0.0000, 0.0000, 0.0000],\n",
       "          [0.2055, 0.1950, 0.1962,  ..., 0.0000, 0.0000, 0.0000]]],\n",
       "        grad_fn=<MeanBackward1>))"
      ]
     },
     "execution_count": 5,
     "metadata": {},
     "output_type": "execute_result"
    }
   ],
   "execution_count": 5
  },
  {
   "metadata": {
    "ExecuteTime": {
     "end_time": "2024-09-27T10:31:49.897216Z",
     "start_time": "2024-09-27T10:31:49.893194Z"
    }
   },
   "cell_type": "code",
   "source": [
    "key_padding_mask = torch.zeros(32, 10, dtype=torch.bool)\n",
    "key_padding_mask[:, 5:] = 1  # Mask out positions after the 5th token\n"
   ],
   "id": "ca49f0b6c39efe0c",
   "outputs": [],
   "execution_count": 6
  },
  {
   "metadata": {
    "ExecuteTime": {
     "end_time": "2024-09-27T10:31:50.154397Z",
     "start_time": "2024-09-27T10:31:50.097424Z"
    }
   },
   "cell_type": "code",
   "source": [
    "import torch\n",
    "import torch.nn as nn\n",
    "import torch.nn.functional as F\n",
    "\n",
    "class TransformerEncoderLayer(nn.Module):\n",
    "    def __init__(self, embed_dim, num_heads, dim_feedforward=2048, dropout=0.1):\n",
    "        super(TransformerEncoderLayer, self).__init__()\n",
    "        self.self_attn = nn.MultiheadAttention(embed_dim, num_heads, dropout=dropout)\n",
    "        self.linear1 = nn.Linear(embed_dim, dim_feedforward)\n",
    "        self.dropout = nn.Dropout(dropout)\n",
    "        self.linear2 = nn.Linear(dim_feedforward, embed_dim)\n",
    "\n",
    "        self.norm1 = nn.LayerNorm(embed_dim)\n",
    "        self.norm2 = nn.LayerNorm(embed_dim)\n",
    "        self.dropout1 = nn.Dropout(dropout)\n",
    "        self.dropout2 = nn.Dropout(dropout)\n",
    "\n",
    "    def forward(self, src, src_mask=None, src_key_padding_mask=None):\n",
    "        src2, _ = self.self_attn(src, src, src, attn_mask=src_mask, key_padding_mask=src_key_padding_mask)\n",
    "        src = src + self.dropout1(src2)\n",
    "        src = self.norm1(src)\n",
    "        src2 = self.linear2(self.dropout(F.relu(self.linear1(src))))\n",
    "        src = src + self.dropout2(src2)\n",
    "        src = self.norm2(src)\n",
    "        return src\n",
    "\n",
    "# Instantiate the layer\n",
    "embed_dim = 512\n",
    "num_heads = 8\n",
    "layer = TransformerEncoderLayer(embed_dim, num_heads)\n",
    "dummy_input = torch.rand(10, 32, embed_dim)\n",
    "\n",
    "# Forward pass through the layer\n",
    "output = layer(dummy_input)\n",
    "print(output.shape)"
   ],
   "id": "fb284a9c419c1584",
   "outputs": [
    {
     "name": "stdout",
     "output_type": "stream",
     "text": [
      "torch.Size([10, 32, 512])\n"
     ]
    }
   ],
   "execution_count": 7
  },
  {
   "metadata": {
    "ExecuteTime": {
     "end_time": "2024-09-27T10:31:50.222650Z",
     "start_time": "2024-09-27T10:31:50.219856Z"
    }
   },
   "cell_type": "code",
   "source": "",
   "id": "3a78c995f5069478",
   "outputs": [],
   "execution_count": 7
  },
  {
   "metadata": {
    "ExecuteTime": {
     "end_time": "2024-09-27T10:31:50.379134Z",
     "start_time": "2024-09-27T10:31:50.376519Z"
    }
   },
   "cell_type": "code",
   "source": "",
   "id": "273be5487da2442",
   "outputs": [],
   "execution_count": 7
  }
 ],
 "metadata": {
  "kernelspec": {
   "display_name": "Python 3",
   "language": "python",
   "name": "python3"
  },
  "language_info": {
   "codemirror_mode": {
    "name": "ipython",
    "version": 2
   },
   "file_extension": ".py",
   "mimetype": "text/x-python",
   "name": "python",
   "nbconvert_exporter": "python",
   "pygments_lexer": "ipython2",
   "version": "2.7.6"
  }
 },
 "nbformat": 4,
 "nbformat_minor": 5
}
