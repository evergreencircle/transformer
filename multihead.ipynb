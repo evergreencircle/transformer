{
 "cells": [
  {
   "cell_type": "code",
   "id": "initial_id",
   "metadata": {
    "collapsed": true,
    "ExecuteTime": {
     "end_time": "2024-10-02T15:06:14.432115Z",
     "start_time": "2024-10-02T15:06:14.427519Z"
    }
   },
   "source": [
    "import torch\n",
    "import torch.nn as nn\n",
    "import torch.nn.functional as F\n",
    "\n",
    "embed_dim = 64\n",
    "num_heads = 8\n",
    "multihead_attn = nn.MultiheadAttention(embed_dim, num_heads)\n"
   ],
   "outputs": [],
   "execution_count": 3
  },
  {
   "metadata": {
    "ExecuteTime": {
     "end_time": "2024-10-02T15:06:15.421145Z",
     "start_time": "2024-10-02T15:06:15.409700Z"
    }
   },
   "cell_type": "code",
   "source": [
    "query = torch.rand(6, 32, embed_dim)  # (sequence_length, batch_size, embed_dim)\n",
    "key = torch.rand(10, 32, embed_dim)\n",
    "value = torch.rand(10, 32, embed_dim)\n",
    "\n",
    "attn_output, attn_output_weights = multihead_attn(query, key, value)"
   ],
   "id": "a2402ee694ce2f2c",
   "outputs": [],
   "execution_count": 4
  },
  {
   "metadata": {
    "ExecuteTime": {
     "end_time": "2024-10-02T15:06:15.735199Z",
     "start_time": "2024-10-02T15:06:15.723197Z"
    }
   },
   "cell_type": "code",
   "source": "attn_output.shape",
   "id": "c46560fc983ab544",
   "outputs": [
    {
     "data": {
      "text/plain": [
       "torch.Size([6, 32, 64])"
      ]
     },
     "execution_count": 5,
     "metadata": {},
     "output_type": "execute_result"
    }
   ],
   "execution_count": 5
  },
  {
   "metadata": {},
   "cell_type": "markdown",
   "source": "",
   "id": "abad5cde025b75ba"
  },
  {
   "metadata": {
    "ExecuteTime": {
     "end_time": "2024-10-02T15:06:15.961642Z",
     "start_time": "2024-10-02T15:06:15.929561Z"
    }
   },
   "cell_type": "code",
   "source": [
    "key_padding_mask = torch.zeros(32, 10, dtype=torch.bool) \n",
    "key_padding_mask[:, 5:] = 1  # Mask out positions after the 5th token\n",
    "\n",
    "attn_output, attn_output_weights = multihead_attn(query, key, value, key_padding_mask=key_padding_mask)\n",
    "attn_output, attn_output_weights\n"
   ],
   "id": "4f8eb097fc0ef773",
   "outputs": [
    {
     "data": {
      "text/plain": [
       "(tensor([[[-0.1369,  0.1961,  0.2079,  ..., -0.1719, -0.1980, -0.0251],\n",
       "          [-0.0897,  0.1646,  0.2608,  ..., -0.1870, -0.2238,  0.0297],\n",
       "          [-0.1206, -0.0445,  0.2325,  ..., -0.2061, -0.1994,  0.0830],\n",
       "          ...,\n",
       "          [-0.1698,  0.1564,  0.1423,  ..., -0.0906, -0.1583, -0.0686],\n",
       "          [-0.1446,  0.0404,  0.1077,  ..., -0.1331, -0.1693,  0.0088],\n",
       "          [-0.1325,  0.0605,  0.1609,  ..., -0.1453, -0.2163,  0.0154]],\n",
       " \n",
       "         [[-0.1383,  0.1979,  0.2113,  ..., -0.1676, -0.1983, -0.0230],\n",
       "          [-0.0906,  0.1603,  0.2635,  ..., -0.1909, -0.2201,  0.0315],\n",
       "          [-0.1182, -0.0488,  0.2319,  ..., -0.2063, -0.1986,  0.0826],\n",
       "          ...,\n",
       "          [-0.1649,  0.1524,  0.1416,  ..., -0.0879, -0.1607, -0.0731],\n",
       "          [-0.1439,  0.0390,  0.1072,  ..., -0.1326, -0.1730,  0.0078],\n",
       "          [-0.1275,  0.0629,  0.1581,  ..., -0.1431, -0.2167,  0.0156]],\n",
       " \n",
       "         [[-0.1417,  0.1946,  0.2076,  ..., -0.1701, -0.1948, -0.0224],\n",
       "          [-0.0890,  0.1609,  0.2605,  ..., -0.1898, -0.2231,  0.0252],\n",
       "          [-0.1171, -0.0491,  0.2332,  ..., -0.2067, -0.2002,  0.0804],\n",
       "          ...,\n",
       "          [-0.1671,  0.1536,  0.1416,  ..., -0.0926, -0.1587, -0.0694],\n",
       "          [-0.1449,  0.0351,  0.1096,  ..., -0.1307, -0.1683,  0.0062],\n",
       "          [-0.1242,  0.0604,  0.1548,  ..., -0.1435, -0.2187,  0.0089]],\n",
       " \n",
       "         [[-0.1420,  0.1945,  0.2103,  ..., -0.1723, -0.1954, -0.0246],\n",
       "          [-0.0895,  0.1598,  0.2588,  ..., -0.1902, -0.2217,  0.0297],\n",
       "          [-0.1241, -0.0509,  0.2346,  ..., -0.2096, -0.1983,  0.0826],\n",
       "          ...,\n",
       "          [-0.1674,  0.1558,  0.1409,  ..., -0.0873, -0.1633, -0.0719],\n",
       "          [-0.1391,  0.0377,  0.1138,  ..., -0.1307, -0.1691,  0.0042],\n",
       "          [-0.1259,  0.0636,  0.1593,  ..., -0.1443, -0.2168,  0.0138]],\n",
       " \n",
       "         [[-0.1411,  0.1969,  0.2089,  ..., -0.1717, -0.1967, -0.0218],\n",
       "          [-0.0896,  0.1611,  0.2605,  ..., -0.1873, -0.2260,  0.0247],\n",
       "          [-0.1200, -0.0490,  0.2313,  ..., -0.2065, -0.1964,  0.0823],\n",
       "          ...,\n",
       "          [-0.1614,  0.1519,  0.1412,  ..., -0.0884, -0.1595, -0.0749],\n",
       "          [-0.1443,  0.0401,  0.1138,  ..., -0.1346, -0.1741,  0.0080],\n",
       "          [-0.1270,  0.0622,  0.1553,  ..., -0.1421, -0.2152,  0.0115]],\n",
       " \n",
       "         [[-0.1430,  0.1935,  0.2104,  ..., -0.1714, -0.1974, -0.0211],\n",
       "          [-0.0926,  0.1605,  0.2569,  ..., -0.1883, -0.2232,  0.0327],\n",
       "          [-0.1158, -0.0453,  0.2350,  ..., -0.2070, -0.1990,  0.0778],\n",
       "          ...,\n",
       "          [-0.1630,  0.1518,  0.1361,  ..., -0.0837, -0.1604, -0.0769],\n",
       "          [-0.1433,  0.0390,  0.1094,  ..., -0.1312, -0.1693,  0.0100],\n",
       "          [-0.1228,  0.0636,  0.1563,  ..., -0.1433, -0.2189,  0.0109]]],\n",
       "        grad_fn=<ViewBackward0>),\n",
       " tensor([[[0.1943, 0.2074, 0.1989,  ..., 0.0000, 0.0000, 0.0000],\n",
       "          [0.1914, 0.2037, 0.1997,  ..., 0.0000, 0.0000, 0.0000],\n",
       "          [0.1948, 0.2049, 0.2046,  ..., 0.0000, 0.0000, 0.0000],\n",
       "          [0.1916, 0.2099, 0.1980,  ..., 0.0000, 0.0000, 0.0000],\n",
       "          [0.1948, 0.2088, 0.1979,  ..., 0.0000, 0.0000, 0.0000],\n",
       "          [0.1969, 0.2076, 0.2010,  ..., 0.0000, 0.0000, 0.0000]],\n",
       " \n",
       "         [[0.1988, 0.2034, 0.1994,  ..., 0.0000, 0.0000, 0.0000],\n",
       "          [0.1955, 0.2012, 0.1945,  ..., 0.0000, 0.0000, 0.0000],\n",
       "          [0.1994, 0.1948, 0.1959,  ..., 0.0000, 0.0000, 0.0000],\n",
       "          [0.2013, 0.2045, 0.1936,  ..., 0.0000, 0.0000, 0.0000],\n",
       "          [0.1941, 0.1988, 0.2015,  ..., 0.0000, 0.0000, 0.0000],\n",
       "          [0.2054, 0.2042, 0.1974,  ..., 0.0000, 0.0000, 0.0000]],\n",
       " \n",
       "         [[0.2115, 0.1936, 0.2041,  ..., 0.0000, 0.0000, 0.0000],\n",
       "          [0.2055, 0.2007, 0.2032,  ..., 0.0000, 0.0000, 0.0000],\n",
       "          [0.2074, 0.1980, 0.2017,  ..., 0.0000, 0.0000, 0.0000],\n",
       "          [0.2064, 0.1982, 0.2031,  ..., 0.0000, 0.0000, 0.0000],\n",
       "          [0.2097, 0.1934, 0.2042,  ..., 0.0000, 0.0000, 0.0000],\n",
       "          [0.2048, 0.1962, 0.2049,  ..., 0.0000, 0.0000, 0.0000]],\n",
       " \n",
       "         ...,\n",
       " \n",
       "         [[0.2005, 0.1995, 0.2022,  ..., 0.0000, 0.0000, 0.0000],\n",
       "          [0.1941, 0.1998, 0.2021,  ..., 0.0000, 0.0000, 0.0000],\n",
       "          [0.1985, 0.2032, 0.1949,  ..., 0.0000, 0.0000, 0.0000],\n",
       "          [0.1934, 0.2050, 0.1979,  ..., 0.0000, 0.0000, 0.0000],\n",
       "          [0.1956, 0.2086, 0.1967,  ..., 0.0000, 0.0000, 0.0000],\n",
       "          [0.1935, 0.2026, 0.2004,  ..., 0.0000, 0.0000, 0.0000]],\n",
       " \n",
       "         [[0.1906, 0.2049, 0.1978,  ..., 0.0000, 0.0000, 0.0000],\n",
       "          [0.1883, 0.1990, 0.1971,  ..., 0.0000, 0.0000, 0.0000],\n",
       "          [0.2000, 0.2088, 0.1955,  ..., 0.0000, 0.0000, 0.0000],\n",
       "          [0.1953, 0.2081, 0.2022,  ..., 0.0000, 0.0000, 0.0000],\n",
       "          [0.1961, 0.2004, 0.1953,  ..., 0.0000, 0.0000, 0.0000],\n",
       "          [0.1949, 0.1980, 0.1968,  ..., 0.0000, 0.0000, 0.0000]],\n",
       " \n",
       "         [[0.1949, 0.2004, 0.2045,  ..., 0.0000, 0.0000, 0.0000],\n",
       "          [0.1946, 0.1974, 0.2019,  ..., 0.0000, 0.0000, 0.0000],\n",
       "          [0.2011, 0.1987, 0.1981,  ..., 0.0000, 0.0000, 0.0000],\n",
       "          [0.1980, 0.1978, 0.2031,  ..., 0.0000, 0.0000, 0.0000],\n",
       "          [0.1949, 0.1963, 0.2034,  ..., 0.0000, 0.0000, 0.0000],\n",
       "          [0.1955, 0.2007, 0.1974,  ..., 0.0000, 0.0000, 0.0000]]],\n",
       "        grad_fn=<MeanBackward1>))"
      ]
     },
     "execution_count": 6,
     "metadata": {},
     "output_type": "execute_result"
    }
   ],
   "execution_count": 6
  },
  {
   "metadata": {
    "ExecuteTime": {
     "end_time": "2024-10-02T15:06:16.092811Z",
     "start_time": "2024-10-02T15:06:16.086595Z"
    }
   },
   "cell_type": "code",
   "source": [
    "key_padding_mask = torch.zeros(32, 10, dtype=torch.bool)\n",
    "key_padding_mask[:, 5:] = 1  # Mask out positions after the 5th token\n"
   ],
   "id": "ca49f0b6c39efe0c",
   "outputs": [],
   "execution_count": 7
  },
  {
   "metadata": {
    "ExecuteTime": {
     "end_time": "2024-10-02T15:15:09.225728Z",
     "start_time": "2024-10-02T15:15:09.139361Z"
    }
   },
   "cell_type": "code",
   "source": [
    "class TransformerEncoderLayer(nn.Module):\n",
    "    def __init__(self, embed_dim, num_heads, dim_feedforward=2048, dropout=0.1):\n",
    "        super(TransformerEncoderLayer, self).__init__()\n",
    "        self.self_attn = nn.MultiheadAttention(embed_dim, num_heads, dropout=dropout)\n",
    "        self.linear1 = nn.Linear(embed_dim, dim_feedforward)\n",
    "        self.dropout = nn.Dropout(dropout)\n",
    "        self.linear2 = nn.Linear(dim_feedforward, embed_dim)\n",
    "\n",
    "        self.norm1 = nn.LayerNorm(embed_dim)\n",
    "        self.norm2 = nn.LayerNorm(embed_dim)\n",
    "        self.dropout1 = nn.Dropout(dropout)\n",
    "        self.dropout2 = nn.Dropout(dropout)\n",
    "\n",
    "    def forward(self, src, src_mask=None, src_key_padding_mask=None):\n",
    "        src2, _ = self.self_attn(src, src, src, attn_mask=src_mask, key_padding_mask=src_key_padding_mask)\n",
    "        src = src + self.dropout1(src2)\n",
    "        src = self.norm1(src)\n",
    "        src2 = self.linear2(self.dropout(F.relu(self.linear1(src))))\n",
    "        src = src + self.dropout2(src2)\n",
    "        src = self.norm2(src)\n",
    "        return src\n",
    "\n",
    "# Instantiate the layer\n",
    "embed_dim = 512\n",
    "num_heads = 8\n",
    "layer = TransformerEncoderLayer(embed_dim, num_heads)\n",
    "dummy_input = torch.rand(10, 32, embed_dim)\n",
    "\n",
    "# Forward pass through the layer\n",
    "output = layer(dummy_input)\n",
    "print(output.shape)"
   ],
   "id": "fb284a9c419c1584",
   "outputs": [
    {
     "name": "stdout",
     "output_type": "stream",
     "text": [
      "torch.Size([10, 32, 512])\n"
     ]
    }
   ],
   "execution_count": 10
  },
  {
   "metadata": {
    "ExecuteTime": {
     "end_time": "2024-10-02T15:06:16.355348Z",
     "start_time": "2024-10-02T15:06:16.351866Z"
    }
   },
   "cell_type": "code",
   "source": "",
   "id": "3a78c995f5069478",
   "outputs": [],
   "execution_count": 8
  },
  {
   "metadata": {},
   "cell_type": "code",
   "outputs": [],
   "execution_count": null,
   "source": "",
   "id": "83d0e7e05d0e8d7f"
  }
 ],
 "metadata": {
  "kernelspec": {
   "display_name": "Python 3",
   "language": "python",
   "name": "python3"
  },
  "language_info": {
   "codemirror_mode": {
    "name": "ipython",
    "version": 2
   },
   "file_extension": ".py",
   "mimetype": "text/x-python",
   "name": "python",
   "nbconvert_exporter": "python",
   "pygments_lexer": "ipython2",
   "version": "2.7.6"
  }
 },
 "nbformat": 4,
 "nbformat_minor": 5
}
